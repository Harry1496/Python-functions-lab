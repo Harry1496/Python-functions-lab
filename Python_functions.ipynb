{
 "cells": [
  {
   "cell_type": "code",
   "execution_count": 1,
   "metadata": {},
   "outputs": [
    {
     "name": "stdout",
     "output_type": "stream",
     "text": [
      "0.23265675667731528\n"
     ]
    }
   ],
   "source": [
    "import numpy as np\n",
    "\n",
    "def rule_1(c,A_err):\n",
    "    q = c * A_err\n",
    "    return q\n",
    "\n",
    "def rule_2(a,b,c,d):\n",
    "    q = abs(a * c * b**(c-1)) * d\n",
    "    return q\n",
    "    \n",
    "def rule_3(A_err,B_err):\n",
    "    q = np.sqrt(A_err**2 + B_err**2)\n",
    "    return q\n",
    "\n",
    "def rule_4(Q,A,A_err,m,B,B_err,n):\n",
    "    q_err = abs(Q)*np.sqrt((m*(A_err/A))**2+(n*(B_err/B))**2)\n",
    "    return q_err\n",
    "\n",
    "\n",
    "print(rule_4(0.782383,1.4248,0.050636,1,10.5,3.1,-1))\n",
    "  \n",
    "    "
   ]
  },
  {
   "cell_type": "markdown",
   "metadata": {},
   "source": [
    "### This computed value matches the original computed value"
   ]
  },
  {
   "cell_type": "code",
   "execution_count": 4,
   "metadata": {},
   "outputs": [
    {
     "name": "stdout",
     "output_type": "stream",
     "text": [
      "average = 1.1166666666666667\n",
      "standard deviation = 0.17950549357115014\n"
     ]
    }
   ],
   "source": [
    "x = [1.1, 1.3, 1.4, 0.9, 0.95, 1.05]\n",
    "\n",
    "print('average =', np.average(x))\n",
    "print('standard deviation =',np.std(x))"
   ]
  },
  {
   "cell_type": "markdown",
   "metadata": {},
   "source": [
    "$ \\delta Q = \\sqrt{(\\delta A)^2 + (\\delta B)^2} $"
   ]
  },
  {
   "cell_type": "markdown",
   "metadata": {},
   "source": [
    "$ \\delta F = |F|\\sqrt{(\\frac{\\delta m}{m})^2 + (-1\\frac{\\delta slope}{slope})^2} $ "
   ]
  },
  {
   "cell_type": "code",
   "execution_count": null,
   "metadata": {},
   "outputs": [],
   "source": []
  }
 ],
 "metadata": {
  "kernelspec": {
   "display_name": "Python 3",
   "language": "python",
   "name": "python3"
  },
  "language_info": {
   "codemirror_mode": {
    "name": "ipython",
    "version": 3
   },
   "file_extension": ".py",
   "mimetype": "text/x-python",
   "name": "python",
   "nbconvert_exporter": "python",
   "pygments_lexer": "ipython3",
   "version": "3.8.3"
  }
 },
 "nbformat": 4,
 "nbformat_minor": 4
}
